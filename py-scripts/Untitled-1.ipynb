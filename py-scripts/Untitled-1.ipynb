{
 "cells": [
  {
   "cell_type": "code",
   "execution_count": 34,
   "metadata": {},
   "outputs": [
    {
     "name": "stdout",
     "output_type": "stream",
     "text": [
      "     Unnamed: 0  Employment Sector Employment Background Public Dealing  \\\n",
      "0             0     Private Sector             Technical             No   \n",
      "1             1     Private Sector                  Art             No    \n",
      "2             2  Government Sector             Technical             No   \n",
      "3             3  Government Sector         Non-Technical            Yes   \n",
      "4             4     Private Sector             Technical             No   \n",
      "..          ...                ...                   ...            ...   \n",
      "395         395     Private Sector         Non-Technical            No    \n",
      "396         396  Government Sector         Non-Technical            Yes   \n",
      "397         397  Government Sector         Non-Technical            Yes   \n",
      "398         398  Government Sector         Non-Technical             No   \n",
      "399         399   Entrepreneurship         Non-Technical            Yes   \n",
      "\n",
      "    Degree  IdealNumberOfWorkdays IdealYearlyIncome  \n",
      "0      Yes                    4.0               NaN  \n",
      "1     Yes                     4.0         600K-900K  \n",
      "2      Yes                    6.0        900K-1200K  \n",
      "3     Yes                     4.0        900K-1200K  \n",
      "4      Yes                    5.0       1200K-1500K  \n",
      "..     ...                    ...               ...  \n",
      "395   Yes                     5.0         600K-900K  \n",
      "396     No                    4.0        900K-1200K  \n",
      "397     No                    4.0        900K-1200K  \n",
      "398     No                    5.0   More Than 1500K  \n",
      "399     No                    6.0        900K-1200K  \n",
      "\n",
      "[400 rows x 7 columns]\n"
     ]
    }
   ],
   "source": [
    "import pandas as pd\n",
    "\n",
    "# Chargement des données\n",
    "\n",
    "df = pd.read_csv('e.csv')\n",
    "print(df)\n"
   ]
  },
  {
   "cell_type": "code",
   "execution_count": 51,
   "metadata": {},
   "outputs": [
    {
     "name": "stdout",
     "output_type": "stream",
     "text": [
      "Mean of NumericColumn: 3.0\n",
      "Mode of NonNumericColumn: A\n"
     ]
    }
   ],
   "source": [
    "import pandas as pd\n",
    "import numpy as np\n",
    "\n",
    "class Meaner:\n",
    "    def __init__(self, df):\n",
    "        self.df = df\n",
    "    \n",
    "    def get_mean_mode(self, column):\n",
    "        if self.df[column].dtype.kind in 'bifc':  # check if the column is numeric\n",
    "            return self.df[column].mean()\n",
    "        else:\n",
    "            # For non-numeric columns, calculate the mode (most frequent value)\n",
    "            mode_value = self.df[column].mode()[0]\n",
    "            return mode_value\n",
    "\n",
    "# Exemple d'utilisation\n",
    "data = {\n",
    "    'NumericColumn': [1, 2, 3, 4, 5],\n",
    "    'NonNumericColumn': ['A', 'B', 'A', 'A', 'B']\n",
    "}\n",
    "\n",
    "df = pd.DataFrame(data)\n",
    "\n",
    "meaner = Meaner(df)\n",
    "\n",
    "# Calculer la moyenne pour la colonne numérique\n",
    "mean_numeric = meaner.get_mean_mode('NumericColumn')\n",
    "print(f'Mean of NumericColumn: {mean_numeric}')\n",
    "\n",
    "# Calculer le mode pour la colonne non numérique\n",
    "mode_non_numeric = meaner.get_mean_mode('NonNumericColumn')\n",
    "print(f'Mode of NonNumericColumn: {mode_non_numeric}')\n"
   ]
  }
 ],
 "metadata": {
  "kernelspec": {
   "display_name": "py_ml_env",
   "language": "python",
   "name": "python3"
  },
  "language_info": {
   "codemirror_mode": {
    "name": "ipython",
    "version": 3
   },
   "file_extension": ".py",
   "mimetype": "text/x-python",
   "name": "python",
   "nbconvert_exporter": "python",
   "pygments_lexer": "ipython3",
   "version": "3.12.3"
  }
 },
 "nbformat": 4,
 "nbformat_minor": 2
}
